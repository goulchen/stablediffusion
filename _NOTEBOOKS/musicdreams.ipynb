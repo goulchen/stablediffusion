{
 "cells": [
  {
   "cell_type": "code",
   "execution_count": 2,
   "metadata": {},
   "outputs": [],
   "source": [
    "import ffmpeg, os\n",
    "from pprint import pprint\n",
    "\n",
    "def checkIfVideo(path : str)->bool:\n",
    "    try:\n",
    "      streams = ffmpeg.probe(path)[\"streams\"]\n",
    "      for stream in streams:\n",
    "        # pprint(stream)\n",
    "        if stream['codec_type'] == \"video\" : \n",
    "            return True\n",
    "    except:\n",
    "      return False\n",
    "    return False\n",
    "\n",
    "def exportFrames(videoPath : str, outputPath :str, width : int, height:int)->str:\n",
    "    if not os.path.exists(videoPath):\n",
    "        raise ValueError('input file path does not exist')\n",
    "    if not os.path.exists(outputPath):\n",
    "        raise ValueError('output folder path does not exist')\n",
    "    if not checkIfVideo(videoPath):\n",
    "        raise ValueError('input file is not a video')\n",
    "\n",
    "    print(\"exporting sequence image from video...\")\n",
    "\n",
    "    probe = ffmpeg.probe(videoPath)\n",
    "    width = int(probe['streams'][0]['width'])\n",
    "    nb_frames = int(probe['streams'][0]['nb_frames'])\n",
    "    duration = float(probe['streams'][0]['duration'])\n",
    "    \n",
    "    # pprint(probe['streams'][0])\n",
    "    sequenceName = os.path.basename(videoPath).split(\".\")[0]\n",
    "    outputFolderPath = outputPath + '/' + sequenceName + \"_\" \n",
    "    folderInc = 1\n",
    "    while(os.path.exists(outputFolderPath + str(folderInc).zfill(3))):\n",
    "        folderInc+=1\n",
    "    outputDir = outputFolderPath + str(folderInc).zfill(3) + \"/\" \n",
    "    os.mkdir(outputDir)\n",
    "    try:\n",
    "        ffmpeg                                                          \\\n",
    "        .input(videoPath)                    \\\n",
    "        .filter('scale', height,width)                                     \\\n",
    "        .output(outputDir + sequenceName + '_%04d.png').run(capture_stdout=True, capture_stderr=True)\n",
    "    except ffmpeg.Error as e:\n",
    "        print('stdout:', e.stdout.decode('utf8'))\n",
    "        print('stderr:', e.stderr.decode('utf8'))\n",
    "        raise e\n",
    "        \n",
    "    print(\"Exported sequence in folder \" + outputDir)\n",
    "    return outputDir\n",
    "# help(ffmpeg.input)\n"
   ]
  },
  {
   "cell_type": "code",
   "execution_count": 83,
   "metadata": {},
   "outputs": [],
   "source": [
    "from torch import autocast\n",
    "import requests\n",
    "import torch\n",
    "from PIL import Image\n",
    "from io import BytesIO\n",
    "import gc\n",
    "\n",
    "from diffusers import StableDiffusionImg2ImgPipeline\n",
    "# C:\\Users\\goulc\\Documents\\stablediffusion>python scripts/gradio/depth2img.py configs/stable-diffusion/v2-midas-inference.yaml ckpt\\512-depth-ema.ckpt\n",
    "class Model():\n",
    "    def __init__(self, model_id_or_path):\n",
    "        #clear GPU memory if necessary to load the model\n",
    "        gc.collect()\n",
    "        torch.cuda.empty_cache()\n",
    "\n",
    "        # load the pipeline\n",
    "        self.device = \"cuda\"\n",
    "        # model_id_or_path = \"nitrosocke/redshift-diffusion\"\n",
    "        self.model_id_or_path = \"dallinmackay/Van-Gogh-diffusion\"\n",
    "        self.pipe = StableDiffusionImg2ImgPipeline.from_pretrained(\n",
    "            model_id_or_path, \n",
    "            torch_dtype=torch.float32).to(self.device)\n",
    "        # or download via git clone https://huggingface.co/CompVis/stable-diffusion-v1-4\n",
    "        # and pass `model_id_or_path=\"./stable-diffusion-v1-4\"` without having to use `use_auth_token=True`.\n",
    "    def clearPipe(self):\n",
    "        self.pipe = 0\n",
    "        torch.cuda.empty_cache()\n",
    "        gc.collect()\n",
    "\n",
    "    def resetPipe(self, newModel = ''):\n",
    "        if newModel :\n",
    "            self.model_id_or_path = newModel\n",
    "        self.pipe = 0\n",
    "        torch.cuda.empty_cache()\n",
    "        gc.collect()\n",
    "        self.pipe = StableDiffusionImg2ImgPipeline.from_pretrained(\n",
    "            self.model_id_or_path, \n",
    "            torch_dtype=torch.float32\n",
    "        ).to(self.device)\n",
    "\n",
    "    def createImages(self,sequenceFolder,outputFolder,prompt,negative_prompt,strength=0.35, guidance_scale=8, early= False,width=-1,height=-1):\n",
    "        if self.pipe == \"\" :\n",
    "            raise ValueError('pipe is not set, reset it with resetPipe()')\n",
    "        try:\n",
    "            sequenceName = sequenceFolder.split('/')[-1]\n",
    "            print(sequenceName)\n",
    "            folderInc = 1\n",
    "            while(os.path.exists(outputFolder + '/' + sequenceName + str(folderInc).zfill(3))):\n",
    "                folderInc+=1\n",
    "            outputFolder = outputFolder + \"/\" + sequenceName + \"/\" + sequenceName + str(folderInc).zfill(3) + \"/\" \n",
    "            print(outputFolder)\n",
    "            os.mkdir(outputFolder)\n",
    "            for subdir, dirs, files in os.walk(sequenceFolder):\n",
    "                for file in files:\n",
    "                    init_image = Image.open(os.path.join(subdir, file)).convert(\"RGB\")\n",
    "                    originalSize = init_image.size\n",
    "                    init_image = init_image.resize((768, 512))\n",
    "                    with autocast(\"cuda\"):\n",
    "                        images = self.pipe(prompt=prompt, negative_prompt= negative_prompt, init_image=init_image, strength=strength, guidance_scale=guidance_scale).images\n",
    "                    imageFinale = images[0].resize(originalSize)\n",
    "                    imageFinale.save(outputFolder + \"/\" + file )\n",
    "                    if early :\n",
    "                        break\n",
    "        except Exception as ex:\n",
    "            print(ex)\n",
    "        \n",
    "\n",
    "\n",
    "\n"
   ]
  },
  {
   "cell_type": "code",
   "execution_count": 78,
   "metadata": {},
   "outputs": [
    {
     "name": "stdout",
     "output_type": "stream",
     "text": [
      "exporting sequence image from video...\n",
      "Exported sequence in folder C:/Users/goulc/Documents/stablediffusion/inputs/1088410305-preview_004/\n"
     ]
    }
   ],
   "source": [
    "filepath = 'C:/Users/goulc/Documents/stablediffusion/inputs/1088410305-preview.mp4'\n",
    "otuputfolderpath = \"C:/Users/goulc/Documents/stablediffusion/inputs\"\n",
    "sequenceFolder =  exportFrames(filepath,otuputfolderpath, 1920,1080)"
   ]
  },
  {
   "cell_type": "code",
   "execution_count": null,
   "metadata": {},
   "outputs": [],
   "source": [
    "\n",
    "try:\n",
    "    model.clearPipe()\n",
    "except Exception as ex:\n",
    "    print(ex)\n",
    "    \n",
    "# prompt = \"lvngvncnt, one black man with white glasses is playing the drums alone in an empty room, his left arm is lowered, he is sining into a microphone, highly detailed\"\n",
    "# negative_prompt = \"wearing a hat\"\n",
    "model = Model(\"dallinmackay/Van-Gogh-diffusion\")\n",
    "outputFolder = \"C:/Users/goulc/Documents/stablediffusion/outputs\"\n",
    "prompt = \"lvngvncnt, one white bald man with glasses is playing the saxophone alone in an empty room, his left arm is lowered, he is sining into a microphone, highly detailed\"\n",
    "prompt = \"lvngvncnt, a farmer with a clown hat, highly detailed\"\n",
    "negative_prompt = \"wearing a hat\"\n",
    "strength=0.4\n",
    "guidance_scale=7\n",
    "model.createImages(sequenceFolder,outputFolder,prompt,negative_prompt,strength, guidance_scale, early=False)\n",
    "\n",
    "\n",
    "# model.resetPipe()"
   ]
  },
  {
   "cell_type": "code",
   "execution_count": 54,
   "metadata": {},
   "outputs": [
    {
     "name": "stdout",
     "output_type": "stream",
     "text": [
      "(1, 2, 3, 3)\n",
      "[[[[1 1]\n",
      "   [1 1]\n",
      "   [1 1]]\n",
      "\n",
      "  [[2 2]\n",
      "   [2 2]\n",
      "   [2 2]]\n",
      "\n",
      "  [[3 3]\n",
      "   [3 3]\n",
      "   [3 3]]]]\n"
     ]
    }
   ],
   "source": [
    "import numpy as np\n",
    "labels=np.array([[[1,2,3],[1,2,3],[1,2,3]],\n",
    "                 [[1,2,3],[1,2,3],[1,2,3]]])\n",
    "print(labels[None].shape)\n",
    "print(labels[None].transpose(0,3,2,1))\n",
    "# def clear(model):\n",
    "#     try:\n",
    "#         del model.pipe\n",
    "#     except:\n",
    "#         pass\n",
    "#     return\n",
    "\n",
    "# if 'model' in locals():\n",
    "#     try:\n",
    "#         del model.pipe\n",
    "#     except:\n",
    "#         pass\n",
    "# clear.\n",
    "# torch.cuda.empty_cache()\n",
    "# gc.collect()\n",
    "# torch.cuda.empty_cache()\n",
    "# gc.collect()\n",
    "\n"
   ]
  },
  {
   "cell_type": "code",
   "execution_count": null,
   "metadata": {},
   "outputs": [],
   "source": []
  },
  {
   "cell_type": "code",
   "execution_count": 32,
   "metadata": {},
   "outputs": [],
   "source": [
    "\n",
    "\n"
   ]
  },
  {
   "cell_type": "code",
   "execution_count": 18,
   "metadata": {},
   "outputs": [
    {
     "data": {
      "text/html": [
       "<pre style=\"white-space:pre;overflow-x:auto;line-height:normal;font-family:Menlo,'DejaVu Sans Mono',consolas,'Courier New',monospace\"><span style=\"color: #800000; text-decoration-color: #800000\">╭─────────────────────────────── </span><span style=\"color: #800000; text-decoration-color: #800000; font-weight: bold\">Traceback </span><span style=\"color: #bf7f7f; text-decoration-color: #bf7f7f; font-weight: bold\">(most recent call last)</span><span style=\"color: #800000; text-decoration-color: #800000\"> ────────────────────────────────╮</span>\n",
       "<span style=\"color: #800000; text-decoration-color: #800000\">│</span> <span style=\"color: #808000; text-decoration-color: #808000\">C:\\Users\\goulc\\AppData\\Local\\Temp\\ipykernel_22712\\2557690339.py</span>:<span style=\"color: #0000ff; text-decoration-color: #0000ff\">9</span> in <span style=\"color: #00ff00; text-decoration-color: #00ff00\">&lt;module&gt;</span>                    <span style=\"color: #800000; text-decoration-color: #800000\">│</span>\n",
       "<span style=\"color: #800000; text-decoration-color: #800000\">│</span>                                                                                                  <span style=\"color: #800000; text-decoration-color: #800000\">│</span>\n",
       "<span style=\"color: #800000; text-decoration-color: #800000\">│</span> <span style=\"color: #800000; text-decoration-color: #800000; font-style: italic\">[Errno 2] No such file or directory: </span>                                                            <span style=\"color: #800000; text-decoration-color: #800000\">│</span>\n",
       "<span style=\"color: #800000; text-decoration-color: #800000\">│</span> <span style=\"color: #800000; text-decoration-color: #800000; font-style: italic\">'C:\\\\Users\\\\goulc\\\\AppData\\\\Local\\\\Temp\\\\ipykernel_22712\\\\2557690339.py'</span>                         <span style=\"color: #800000; text-decoration-color: #800000\">│</span>\n",
       "<span style=\"color: #800000; text-decoration-color: #800000\">│</span>                                                                                                  <span style=\"color: #800000; text-decoration-color: #800000\">│</span>\n",
       "<span style=\"color: #800000; text-decoration-color: #800000\">│</span> <span style=\"color: #808000; text-decoration-color: #808000\">C:\\Users\\goulc\\AppData\\Local\\Temp\\ipykernel_22712\\865377466.py</span>:<span style=\"color: #0000ff; text-decoration-color: #0000ff\">34</span> in <span style=\"color: #00ff00; text-decoration-color: #00ff00\">createImages</span>                <span style=\"color: #800000; text-decoration-color: #800000\">│</span>\n",
       "<span style=\"color: #800000; text-decoration-color: #800000\">│</span>                                                                                                  <span style=\"color: #800000; text-decoration-color: #800000\">│</span>\n",
       "<span style=\"color: #800000; text-decoration-color: #800000\">│</span> <span style=\"color: #800000; text-decoration-color: #800000; font-style: italic\">[Errno 2] No such file or directory: </span>                                                            <span style=\"color: #800000; text-decoration-color: #800000\">│</span>\n",
       "<span style=\"color: #800000; text-decoration-color: #800000\">│</span> <span style=\"color: #800000; text-decoration-color: #800000; font-style: italic\">'C:\\\\Users\\\\goulc\\\\AppData\\\\Local\\\\Temp\\\\ipykernel_22712\\\\865377466.py'</span>                          <span style=\"color: #800000; text-decoration-color: #800000\">│</span>\n",
       "<span style=\"color: #800000; text-decoration-color: #800000\">╰──────────────────────────────────────────────────────────────────────────────────────────────────╯</span>\n",
       "<span style=\"color: #ff0000; text-decoration-color: #ff0000; font-weight: bold\">FileExistsError: </span><span style=\"font-weight: bold\">[</span>WinError <span style=\"color: #008080; text-decoration-color: #008080; font-weight: bold\">183</span><span style=\"font-weight: bold\">]</span> Cannot create a file when that file already exists: \n",
       "<span style=\"color: #008000; text-decoration-color: #008000\">'C:/Users/goulc/Documents/stablediffusion/outputs'</span>\n",
       "</pre>\n"
      ],
      "text/plain": [
       "\u001b[31m╭─\u001b[0m\u001b[31m──────────────────────────────\u001b[0m\u001b[31m \u001b[0m\u001b[1;31mTraceback \u001b[0m\u001b[1;2;31m(most recent call last)\u001b[0m\u001b[31m \u001b[0m\u001b[31m───────────────────────────────\u001b[0m\u001b[31m─╮\u001b[0m\n",
       "\u001b[31m│\u001b[0m \u001b[33mC:\\Users\\goulc\\AppData\\Local\\Temp\\ipykernel_22712\\2557690339.py\u001b[0m:\u001b[94m9\u001b[0m in \u001b[92m<module>\u001b[0m                    \u001b[31m│\u001b[0m\n",
       "\u001b[31m│\u001b[0m                                                                                                  \u001b[31m│\u001b[0m\n",
       "\u001b[31m│\u001b[0m \u001b[3;31m[Errno 2] No such file or directory: \u001b[0m                                                            \u001b[31m│\u001b[0m\n",
       "\u001b[31m│\u001b[0m \u001b[3;31m'C:\\\\Users\\\\goulc\\\\AppData\\\\Local\\\\Temp\\\\ipykernel_22712\\\\2557690339.py'\u001b[0m                         \u001b[31m│\u001b[0m\n",
       "\u001b[31m│\u001b[0m                                                                                                  \u001b[31m│\u001b[0m\n",
       "\u001b[31m│\u001b[0m \u001b[33mC:\\Users\\goulc\\AppData\\Local\\Temp\\ipykernel_22712\\865377466.py\u001b[0m:\u001b[94m34\u001b[0m in \u001b[92mcreateImages\u001b[0m                \u001b[31m│\u001b[0m\n",
       "\u001b[31m│\u001b[0m                                                                                                  \u001b[31m│\u001b[0m\n",
       "\u001b[31m│\u001b[0m \u001b[3;31m[Errno 2] No such file or directory: \u001b[0m                                                            \u001b[31m│\u001b[0m\n",
       "\u001b[31m│\u001b[0m \u001b[3;31m'C:\\\\Users\\\\goulc\\\\AppData\\\\Local\\\\Temp\\\\ipykernel_22712\\\\865377466.py'\u001b[0m                          \u001b[31m│\u001b[0m\n",
       "\u001b[31m╰──────────────────────────────────────────────────────────────────────────────────────────────────╯\u001b[0m\n",
       "\u001b[1;91mFileExistsError: \u001b[0m\u001b[1m[\u001b[0mWinError \u001b[1;36m183\u001b[0m\u001b[1m]\u001b[0m Cannot create a file when that file already exists: \n",
       "\u001b[32m'C:/Users/goulc/Documents/stablediffusion/outputs'\u001b[0m\n"
      ]
     },
     "metadata": {},
     "output_type": "display_data"
    }
   ],
   "source": [
    "outputFolder = \"C:/Users/goulc/Documents/stablediffusion/outputs\"\n",
    "prompt = 'a cat'\n",
    "negative_prompt = 'a dog'\n",
    "strength=0.35\n",
    "guidance_scale=8\n",
    "\n",
    "\n",
    "                   \n",
    "model.createImages(sequenceFolder,outputFolder,prompt,negative_prompt,strength, guidance_scale)"
   ]
  }
 ],
 "metadata": {
  "kernelspec": {
   "display_name": "Python 3.10.1 64-bit",
   "language": "python",
   "name": "python3"
  },
  "language_info": {
   "codemirror_mode": {
    "name": "ipython",
    "version": 3
   },
   "file_extension": ".py",
   "mimetype": "text/x-python",
   "name": "python",
   "nbconvert_exporter": "python",
   "pygments_lexer": "ipython3",
   "version": "3.10.1 (tags/v3.10.1:2cd268a, Dec  6 2021, 19:10:37) [MSC v.1929 64 bit (AMD64)]"
  },
  "orig_nbformat": 4,
  "vscode": {
   "interpreter": {
    "hash": "369f2c481f4da34e4445cda3fffd2e751bd1c4d706f27375911949ba6bb62e1c"
   }
  }
 },
 "nbformat": 4,
 "nbformat_minor": 2
}
